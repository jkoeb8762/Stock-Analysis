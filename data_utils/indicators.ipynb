{
 "cells": [
  {
   "cell_type": "code",
   "execution_count": null,
   "id": "c4d9f6ad",
   "metadata": {},
   "outputs": [],
   "source": [
    "import talib as ta"
   ]
  },
  {
   "cell_type": "code",
   "execution_count": null,
   "id": "76835fae",
   "metadata": {},
   "outputs": [],
   "source": [
    "def add_stoch(data):\n",
    "    high = data['High']\n",
    "    low = data['Low']\n",
    "    close = data['Close']\n",
    "    # Calculate slow %K and slow %D\n",
    "    slowk, slowd = ta.STOCH(high, low, close,fastk_period=5,slowk_period=3,slowk_matype=0,slowd_period=3,slowd_matype=0)\n",
    "\n",
    "    return slowk, slowd"
   ]
  },
  {
   "cell_type": "code",
   "execution_count": null,
   "id": "c257b430",
   "metadata": {},
   "outputs": [],
   "source": [
    "def add_macd(data):\n",
    "    macd, macdsignal, macdhist = ta.MACD(data['Close'], fastperiod=12, slowperiod=26, signalperiod=9)\n",
    "    return macd, macdsignal, macdhist"
   ]
  }
 ],
 "metadata": {
  "kernelspec": {
   "display_name": "Python 3 (ipykernel)",
   "language": "python",
   "name": "python3"
  },
  "language_info": {
   "codemirror_mode": {
    "name": "ipython",
    "version": 3
   },
   "file_extension": ".py",
   "mimetype": "text/x-python",
   "name": "python",
   "nbconvert_exporter": "python",
   "pygments_lexer": "ipython3",
   "version": "3.9.13"
  }
 },
 "nbformat": 4,
 "nbformat_minor": 5
}
