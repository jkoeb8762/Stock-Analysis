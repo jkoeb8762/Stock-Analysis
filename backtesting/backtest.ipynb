{
 "cells": [
  {
   "cell_type": "code",
   "execution_count": 1,
   "id": "98fbe9ae",
   "metadata": {},
   "outputs": [],
   "source": [
    "import numpy as np\n",
    "import matplotlib.pyplot as plt"
   ]
  },
  {
   "cell_type": "code",
   "execution_count": 2,
   "id": "a72476aa",
   "metadata": {},
   "outputs": [],
   "source": [
    "def backtest(prices, buy_price, sell_price, initial_investment=100000):\n",
    "    cash = initial_investment\n",
    "    shares = 0\n",
    "    portfolio_values = []\n",
    "\n",
    "    for i in range(len(prices)):\n",
    "        if not np.isnan(buy_price[i]) and cash > prices[i]:\n",
    "            shares += cash // prices[i]\n",
    "            cash -= shares * prices[i]\n",
    "        if not np.isnan(sell_price[i]) and shares > 0:\n",
    "            cash += shares * prices[i]\n",
    "            shares = 0\n",
    "        portfolio_value = cash + shares * prices[i]\n",
    "        portfolio_values.append(portfolio_value)\n",
    "\n",
    "    total_return = (portfolio_values[-1] - initial_investment) / initial_investment\n",
    "    plt.plot(portfolio_values, label='Portfolio Value')\n",
    "    plt.axhline(y=initial_investment, color='r', linestyle='--', label='Initial Investment')\n",
    "    plt.legend()\n",
    "    plt.title('Backtest Results')\n",
    "    plt.xlabel('Days')\n",
    "    plt.ylabel('Value')\n",
    "    plt.show()\n",
    "\n",
    "    print(f\"Total return: {total_return * 100:.2f}%\")"
   ]
  }
 ],
 "metadata": {
  "kernelspec": {
   "display_name": "Python 3 (ipykernel)",
   "language": "python",
   "name": "python3"
  },
  "language_info": {
   "codemirror_mode": {
    "name": "ipython",
    "version": 3
   },
   "file_extension": ".py",
   "mimetype": "text/x-python",
   "name": "python",
   "nbconvert_exporter": "python",
   "pygments_lexer": "ipython3",
   "version": "3.9.13"
  }
 },
 "nbformat": 4,
 "nbformat_minor": 5
}
