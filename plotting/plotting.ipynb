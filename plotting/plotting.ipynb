{
 "cells": [
  {
   "cell_type": "code",
   "execution_count": null,
   "id": "5267ea6a",
   "metadata": {},
   "outputs": [],
   "source": [
    "import matplotlib.pyplot as plt"
   ]
  },
  {
   "cell_type": "code",
   "execution_count": null,
   "id": "a56f5b5c",
   "metadata": {},
   "outputs": [],
   "source": [
    "def plot_macd(data, macd, macdsignal, macdhist):\n",
    "    plt.figure(figsize=(12, 6))\n",
    "    # Plotting MACD and MACD signal line\n",
    "    plt.subplot(2, 1, 1)\n",
    "    plt.plot(data.index, macd, label='MACD', color='blue')\n",
    "    plt.plot(data.index, macdsignal, label='MACD Signal', color='red')\n",
    "    plt.legend()\n",
    "\n",
    "    # Plotting MACD histogram\n",
    "    plt.subplot(2, 1, 2)\n",
    "    plt.bar(data.index, macdhist, label='MACD Histogram', color='gray')\n",
    "    plt.axhline(0, color='black', linewidth=0.8)\n",
    "    plt.legend()\n",
    "\n",
    "    plt.show()"
   ]
  },
  {
   "cell_type": "code",
   "execution_count": null,
   "id": "eee943ee",
   "metadata": {},
   "outputs": [],
   "source": [
    "def plot_macd_strategy(symbol, prices, buy_price, sell_price, macd, macdsignal):\n",
    "    ax1 = plt.subplot2grid((9, 1), (0, 0), rowspan=5, colspan=1)\n",
    "    ax1.plot(prices, color='skyblue', label=symbol)\n",
    "    ax1.plot(prices.index, buy_price, marker='^', color='green', markersize=10, label='BUY SIGNAL', linewidth=0)\n",
    "    ax1.plot(prices.index, sell_price, marker='v', color='r', markersize=10, label='SELL SIGNAL', linewidth=0)\n",
    "    ax1.legend(loc='upper left')\n",
    "    ax1.set_title(f'{symbol} STOCK PRICE')\n",
    "    \n",
    "    plt.show()"
   ]
  },
  {
   "cell_type": "code",
   "execution_count": null,
   "id": "776d6442",
   "metadata": {},
   "outputs": [],
   "source": [
    "def plot_stochastic_strategy(symbol, prices, buy_price, sell_price, k, d):\n",
    "    ax1 = plt.subplot2grid((9, 1), (0,0), rowspan=5, colspan=1)\n",
    "    ax2 = plt.subplot2grid((9, 1), (6,0), rowspan=3, colspan=1)\n",
    "    ax1.plot(prices, color='skyblue', label=symbol)\n",
    "    ax1.plot(prices.index, buy_price, marker='^', color='green', markersize=10, label='BUY SIGNAL', linewidth=0)\n",
    "    ax1.plot(prices.index, sell_price, marker='v', color='r', markersize=10, label='SELL SIGNAL', linewidth=0)\n",
    "    ax1.legend(loc='upper left')\n",
    "    ax1.set_title(f'{symbol} STOCK PRICE')\n",
    "    ax2.plot(k, color='deepskyblue', linewidth=1.5, label='%K')\n",
    "    ax2.plot(d, color='orange', linewidth=1.5, label='%D')\n",
    "    ax2.axhline(80, color='black', linewidth=1, linestyle='--')\n",
    "    ax2.axhline(20, color='black', linewidth=1, linestyle='--')\n",
    "    ax2.set_title(f'{symbol} STOCH')\n",
    "    ax2.legend()\n",
    "    plt.show()"
   ]
  }
 ],
 "metadata": {
  "kernelspec": {
   "display_name": "Python 3 (ipykernel)",
   "language": "python",
   "name": "python3"
  },
  "language_info": {
   "codemirror_mode": {
    "name": "ipython",
    "version": 3
   },
   "file_extension": ".py",
   "mimetype": "text/x-python",
   "name": "python",
   "nbconvert_exporter": "python",
   "pygments_lexer": "ipython3",
   "version": "3.9.13"
  }
 },
 "nbformat": 4,
 "nbformat_minor": 5
}
