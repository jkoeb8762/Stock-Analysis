{
 "cells": [
  {
   "cell_type": "code",
   "execution_count": null,
   "id": "f5d2d204",
   "metadata": {},
   "outputs": [],
   "source": [
    "def implement_stoch_strategy(prices, k, d):\n",
    "    buy_price = []\n",
    "    sell_price = []\n",
    "    stoch_signal = []\n",
    "    signal = 0\n",
    "\n",
    "    for i in range(len(prices)):\n",
    "        if k[i] < 20 and d[i] < 20 and k[i] < d[i]:\n",
    "            if signal != 1:\n",
    "                buy_price.append(prices[i])\n",
    "                sell_price.append(np.nan)\n",
    "                signal = 1\n",
    "                stoch_signal.append(signal)\n",
    "            else:\n",
    "                buy_price.append(np.nan)\n",
    "                sell_price.append(np.nan)\n",
    "                stoch_signal.append(0)\n",
    "        elif k[i] > 80 and d[i] > 80 and k[i] > d[i]:\n",
    "            if signal != -1:\n",
    "                buy_price.append(np.nan)\n",
    "                sell_price.append(prices[i])\n",
    "                signal = -1\n",
    "                stoch_signal.append(signal)\n",
    "            else:\n",
    "                buy_price.append(np.nan)\n",
    "                sell_price.append(np.nan)\n",
    "                stoch_signal.append(0)\n",
    "        else:\n",
    "            buy_price.append(np.nan)\n",
    "            sell_price.append(np.nan)\n",
    "            stoch_signal.append(0)\n",
    "            \n",
    "    return buy_price, sell_price, stoch_signal"
   ]
  }
 ],
 "metadata": {
  "kernelspec": {
   "display_name": "Python 3 (ipykernel)",
   "language": "python",
   "name": "python3"
  },
  "language_info": {
   "codemirror_mode": {
    "name": "ipython",
    "version": 3
   },
   "file_extension": ".py",
   "mimetype": "text/x-python",
   "name": "python",
   "nbconvert_exporter": "python",
   "pygments_lexer": "ipython3",
   "version": "3.9.13"
  }
 },
 "nbformat": 4,
 "nbformat_minor": 5
}
