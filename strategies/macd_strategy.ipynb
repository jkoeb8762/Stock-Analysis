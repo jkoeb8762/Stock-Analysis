{
 "cells": [
  {
   "cell_type": "code",
   "execution_count": null,
   "id": "1738a294",
   "metadata": {},
   "outputs": [],
   "source": [
    "def implement_macd_strategy(data):\n",
    "    macd, macdsignal, _ = ta.MACD(data['Close'])\n",
    "    # Generate signals based on MACD crossovers with MACD signal line\n",
    "    prices = data['Close']\n",
    "    buy_price = [np.nan] * len(prices)\n",
    "    sell_price = [np.nan] * len(prices)\n",
    "    signals = [0] * len(prices)\n",
    "\n",
    "    for i in range(1, len(macd)):\n",
    "        if macd[i] > macdsignal[i] and macd[i - 1] <= macdsignal[i - 1]:\n",
    "            buy_price[i] = prices[i]\n",
    "            signals[i] = 1  # Buy signal\n",
    "        elif macd[i] < macdsignal[i] and macd[i - 1] >= macdsignal[i - 1]:\n",
    "            sell_price[i] = prices[i]\n",
    "            signals[i] = -1  # Sell signal\n",
    "\n",
    "    return buy_price, sell_price, signals"
   ]
  }
 ],
 "metadata": {
  "kernelspec": {
   "display_name": "Python 3 (ipykernel)",
   "language": "python",
   "name": "python3"
  },
  "language_info": {
   "codemirror_mode": {
    "name": "ipython",
    "version": 3
   },
   "file_extension": ".py",
   "mimetype": "text/x-python",
   "name": "python",
   "nbconvert_exporter": "python",
   "pygments_lexer": "ipython3",
   "version": "3.9.13"
  }
 },
 "nbformat": 4,
 "nbformat_minor": 5
}
